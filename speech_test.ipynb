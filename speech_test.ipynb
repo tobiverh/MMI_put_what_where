{
 "cells": [
  {
   "cell_type": "code",
   "execution_count": 17,
   "id": "initial_id",
   "metadata": {
    "collapsed": true,
    "ExecuteTime": {
     "end_time": "2024-04-22T05:30:19.339198Z",
     "start_time": "2024-04-22T05:30:19.332615Z"
    }
   },
   "outputs": [
    {
     "name": "stdout",
     "output_type": "stream",
     "text": [
      "Say something!\n"
     ]
    }
   ],
   "source": [
    "# import PyAudio\n",
    "import speech_recognition as sr\n",
    "import numpy as np\n",
    "\n",
    "r = sr.Recognizer()\n",
    "with sr.AudioFile(\"release.wav\") as source:\n",
    "    print(\"Say something!\")\n",
    "    audio = r.record(source)\n",
    "    \n"
   ]
  },
  {
   "cell_type": "code",
   "execution_count": 18,
   "outputs": [
    {
     "name": "stdout",
     "output_type": "stream",
     "text": [
      "release\n"
     ]
    }
   ],
   "source": [
    "print(r.recognize_google(audio))"
   ],
   "metadata": {
    "collapsed": false,
    "ExecuteTime": {
     "end_time": "2024-04-22T05:30:31.244305Z",
     "start_time": "2024-04-22T05:30:20.013497Z"
    }
   },
   "id": "93af0d83ad373cd8"
  },
  {
   "cell_type": "code",
   "execution_count": 15,
   "outputs": [
    {
     "name": "stdout",
     "output_type": "stream",
     "text": [
      "Say something!\n"
     ]
    }
   ],
   "source": [
    "# import PyAudio\n",
    "import speech_recognition as sr\n",
    "import numpy as np\n",
    "\n",
    "r = sr.Recognizer()\n",
    "with sr.Microphone() as source:\n",
    "    print(\"Say something!\")\n",
    "    audio = r.listen(source)\n",
    "    \n"
   ],
   "metadata": {
    "collapsed": false,
    "ExecuteTime": {
     "end_time": "2024-04-20T17:15:58.138445Z",
     "start_time": "2024-04-20T17:15:47.448329Z"
    }
   },
   "id": "3d2b3f19b5632b28"
  },
  {
   "cell_type": "code",
   "execution_count": 14,
   "outputs": [
    {
     "ename": "UnknownValueError",
     "evalue": "",
     "output_type": "error",
     "traceback": [
      "\u001B[0;31m---------------------------------------------------------------------------\u001B[0m",
      "\u001B[0;31mUnknownValueError\u001B[0m                         Traceback (most recent call last)",
      "Cell \u001B[0;32mIn[14], line 1\u001B[0m\n\u001B[0;32m----> 1\u001B[0m \u001B[38;5;28mprint\u001B[39m(\u001B[43mr\u001B[49m\u001B[38;5;241;43m.\u001B[39;49m\u001B[43mrecognize_google\u001B[49m\u001B[43m(\u001B[49m\u001B[43maudio\u001B[49m\u001B[43m)\u001B[49m)\n",
      "File \u001B[0;32m/usr/local/lib/python3.9/site-packages/speech_recognition/recognizers/google.py:251\u001B[0m, in \u001B[0;36mrecognize_legacy\u001B[0;34m(recognizer, audio_data, key, language, pfilter, show_all, with_confidence)\u001B[0m\n\u001B[1;32m    244\u001B[0m response_text \u001B[38;5;241m=\u001B[39m obtain_transcription(\n\u001B[1;32m    245\u001B[0m     request, timeout\u001B[38;5;241m=\u001B[39mrecognizer\u001B[38;5;241m.\u001B[39moperation_timeout\n\u001B[1;32m    246\u001B[0m )\n\u001B[1;32m    248\u001B[0m output_parser \u001B[38;5;241m=\u001B[39m OutputParser(\n\u001B[1;32m    249\u001B[0m     show_all\u001B[38;5;241m=\u001B[39mshow_all, with_confidence\u001B[38;5;241m=\u001B[39mwith_confidence\n\u001B[1;32m    250\u001B[0m )\n\u001B[0;32m--> 251\u001B[0m \u001B[38;5;28;01mreturn\u001B[39;00m \u001B[43moutput_parser\u001B[49m\u001B[38;5;241;43m.\u001B[39;49m\u001B[43mparse\u001B[49m\u001B[43m(\u001B[49m\u001B[43mresponse_text\u001B[49m\u001B[43m)\u001B[49m\n",
      "File \u001B[0;32m/usr/local/lib/python3.9/site-packages/speech_recognition/recognizers/google.py:124\u001B[0m, in \u001B[0;36mOutputParser.parse\u001B[0;34m(self, response_text)\u001B[0m\n\u001B[1;32m    123\u001B[0m \u001B[38;5;28;01mdef\u001B[39;00m \u001B[38;5;21mparse\u001B[39m(\u001B[38;5;28mself\u001B[39m, response_text: \u001B[38;5;28mstr\u001B[39m):\n\u001B[0;32m--> 124\u001B[0m     actual_result \u001B[38;5;241m=\u001B[39m \u001B[38;5;28;43mself\u001B[39;49m\u001B[38;5;241;43m.\u001B[39;49m\u001B[43mconvert_to_result\u001B[49m\u001B[43m(\u001B[49m\u001B[43mresponse_text\u001B[49m\u001B[43m)\u001B[49m\n\u001B[1;32m    125\u001B[0m     \u001B[38;5;28;01mif\u001B[39;00m \u001B[38;5;28mself\u001B[39m\u001B[38;5;241m.\u001B[39mshow_all:\n\u001B[1;32m    126\u001B[0m         \u001B[38;5;28;01mreturn\u001B[39;00m actual_result\n",
      "File \u001B[0;32m/usr/local/lib/python3.9/site-packages/speech_recognition/recognizers/google.py:173\u001B[0m, in \u001B[0;36mOutputParser.convert_to_result\u001B[0;34m(response_text)\u001B[0m\n\u001B[1;32m    171\u001B[0m             \u001B[38;5;28;01mraise\u001B[39;00m UnknownValueError()\n\u001B[1;32m    172\u001B[0m         \u001B[38;5;28;01mreturn\u001B[39;00m result[\u001B[38;5;241m0\u001B[39m]\n\u001B[0;32m--> 173\u001B[0m \u001B[38;5;28;01mraise\u001B[39;00m UnknownValueError()\n",
      "\u001B[0;31mUnknownValueError\u001B[0m: "
     ]
    }
   ],
   "source": [
    "print(r.recognize_google(audio))"
   ],
   "metadata": {
    "collapsed": false,
    "ExecuteTime": {
     "end_time": "2024-04-22T05:27:41.989760Z",
     "start_time": "2024-04-22T05:27:40.376785Z"
    }
   },
   "id": "3368b2af64806c00"
  },
  {
   "cell_type": "code",
   "execution_count": null,
   "outputs": [],
   "source": [],
   "metadata": {
    "collapsed": false
   },
   "id": "419039173787a01"
  }
 ],
 "metadata": {
  "kernelspec": {
   "display_name": "Python 3",
   "language": "python",
   "name": "python3"
  },
  "language_info": {
   "codemirror_mode": {
    "name": "ipython",
    "version": 2
   },
   "file_extension": ".py",
   "mimetype": "text/x-python",
   "name": "python",
   "nbconvert_exporter": "python",
   "pygments_lexer": "ipython2",
   "version": "2.7.6"
  }
 },
 "nbformat": 4,
 "nbformat_minor": 5
}
