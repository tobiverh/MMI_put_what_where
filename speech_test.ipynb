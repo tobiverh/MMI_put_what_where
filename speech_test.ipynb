{
 "cells": [
  {
   "cell_type": "code",
   "execution_count": 13,
   "id": "initial_id",
   "metadata": {
    "collapsed": true,
    "ExecuteTime": {
     "end_time": "2024-04-20T17:11:39.019185Z",
     "start_time": "2024-04-20T17:11:39.013120Z"
    }
   },
   "outputs": [
    {
     "name": "stdout",
     "output_type": "stream",
     "text": [
      "Say something!\n"
     ]
    }
   ],
   "source": [
    "# import PyAudio\n",
    "import speech_recognition as sr\n",
    "import numpy as np\n",
    "\n",
    "r = sr.Recognizer()\n",
    "with sr.AudioFile(\"output.wav\") as source:\n",
    "    print(\"Say something!\")\n",
    "    audio = r.record(source)\n",
    "    \n"
   ]
  },
  {
   "cell_type": "code",
   "execution_count": 15,
   "outputs": [
    {
     "name": "stdout",
     "output_type": "stream",
     "text": [
      "Say something!\n"
     ]
    }
   ],
   "source": [
    "# import PyAudio\n",
    "import speech_recognition as sr\n",
    "import numpy as np\n",
    "\n",
    "r = sr.Recognizer()\n",
    "with sr.Microphone() as source:\n",
    "    print(\"Say something!\")\n",
    "    audio = r.listen(source)\n",
    "    \n"
   ],
   "metadata": {
    "collapsed": false,
    "ExecuteTime": {
     "end_time": "2024-04-20T17:15:58.138445Z",
     "start_time": "2024-04-20T17:15:47.448329Z"
    }
   },
   "id": "3d2b3f19b5632b28"
  },
  {
   "cell_type": "code",
   "execution_count": 16,
   "outputs": [
    {
     "name": "stdout",
     "output_type": "stream",
     "text": [
      "I'm saying something is it working\n"
     ]
    }
   ],
   "source": [
    "print(r.recognize_google(audio))"
   ],
   "metadata": {
    "collapsed": false,
    "ExecuteTime": {
     "end_time": "2024-04-20T17:16:08.350595Z",
     "start_time": "2024-04-20T17:16:01.714750Z"
    }
   },
   "id": "3368b2af64806c00"
  },
  {
   "cell_type": "code",
   "execution_count": null,
   "outputs": [],
   "source": [],
   "metadata": {
    "collapsed": false
   },
   "id": "419039173787a01"
  }
 ],
 "metadata": {
  "kernelspec": {
   "display_name": "Python 3",
   "language": "python",
   "name": "python3"
  },
  "language_info": {
   "codemirror_mode": {
    "name": "ipython",
    "version": 2
   },
   "file_extension": ".py",
   "mimetype": "text/x-python",
   "name": "python",
   "nbconvert_exporter": "python",
   "pygments_lexer": "ipython2",
   "version": "2.7.6"
  }
 },
 "nbformat": 4,
 "nbformat_minor": 5
}
